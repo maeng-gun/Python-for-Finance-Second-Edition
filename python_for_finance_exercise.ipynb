{
  "nbformat": 4,
  "nbformat_minor": 0,
  "metadata": {
    "colab": {
      "name": "python_for_finance.ipynb",
      "provenance": [],
      "collapsed_sections": [],
      "authorship_tag": "ABX9TyPvqvwHP/6IP3DNGoaXI4Vd",
      "include_colab_link": true
    },
    "kernelspec": {
      "name": "python3",
      "display_name": "Python 3"
    }
  },
  "cells": [
    {
      "cell_type": "markdown",
      "metadata": {
        "id": "view-in-github",
        "colab_type": "text"
      },
      "source": [
        "<a href=\"https://colab.research.google.com/github/maeng-gun/Python-for-Finance-Second-Edition/blob/master/python_for_finance_exercise.ipynb\" target=\"_parent\"><img src=\"https://colab.research.google.com/assets/colab-badge.svg\" alt=\"Open In Colab\"/></a>"
      ]
    },
    {
      "cell_type": "markdown",
      "metadata": {
        "id": "me2BTKQ_Chsd"
      },
      "source": [
        "#3. 화폐의 시간가치 "
      ]
    },
    {
      "cell_type": "code",
      "metadata": {
        "colab": {
          "base_uri": "https://localhost:8080/"
        },
        "id": "Bnw6chqECzgl",
        "outputId": "0527f5ee-b9da-4623-fa37-be128a5bf573"
      },
      "source": [
        "import scipy as sp\n",
        "!pip install numpy_financial\n",
        "import numpy_financial as npf"
      ],
      "execution_count": null,
      "outputs": [
        {
          "output_type": "stream",
          "text": [
            "Collecting numpy_financial\n",
            "  Downloading https://files.pythonhosted.org/packages/6a/be/d07585e440d58835bad8f1c9ca7823b5252ffeda4c797e653a20215fca65/numpy_financial-1.0.0-py3-none-any.whl\n",
            "Requirement already satisfied: numpy>=1.15 in /usr/local/lib/python3.6/dist-packages (from numpy_financial) (1.19.4)\n",
            "Installing collected packages: numpy-financial\n",
            "Successfully installed numpy-financial-1.0.0\n"
          ],
          "name": "stdout"
        }
      ]
    },
    {
      "cell_type": "markdown",
      "metadata": {
        "id": "zdTpw4lFHabT"
      },
      "source": [
        "## 1) 할인채 미래가치, 현재가치 "
      ]
    },
    {
      "cell_type": "code",
      "metadata": {
        "id": "15O3aQ87EZR-",
        "colab": {
          "base_uri": "https://localhost:8080/"
        },
        "outputId": "823ebb59-17bf-407e-8a28-d8767a0660a4"
      },
      "source": [
        "rate = 0.1\n",
        "nper = 2\n",
        "pmt = 0\n",
        "pv = 100\n",
        "npf.fv(rate, nper, pmt, pv)"
      ],
      "execution_count": null,
      "outputs": [
        {
          "output_type": "execute_result",
          "data": {
            "text/plain": [
              "-121.00000000000001"
            ]
          },
          "metadata": {
            "tags": []
          },
          "execution_count": 13
        }
      ]
    },
    {
      "cell_type": "code",
      "metadata": {
        "colab": {
          "base_uri": "https://localhost:8080/"
        },
        "id": "95l0NPZ4FzOE",
        "outputId": "1bd30488-f02a-437e-b002-a4f17c0b6a81"
      },
      "source": [
        "npf.pv(0.0145,5,0,234)"
      ],
      "execution_count": null,
      "outputs": [
        {
          "output_type": "execute_result",
          "data": {
            "text/plain": [
              "-217.74871488824184"
            ]
          },
          "metadata": {
            "tags": []
          },
          "execution_count": 8
        }
      ]
    },
    {
      "cell_type": "markdown",
      "metadata": {
        "id": "W6cYZ3kUG8O-"
      },
      "source": [
        "## 2) 영구채 현재가치 \n",
        "\n"
      ]
    },
    {
      "cell_type": "code",
      "metadata": {
        "colab": {
          "base_uri": "https://localhost:8080/"
        },
        "id": "hSzfRlbsH1Qi",
        "outputId": "ed972ccc-680f-45dc-c1a0-beba313be380"
      },
      "source": [
        "# 고정쿠폰 영구채 = 쿠폰 / 이자율\n",
        "coupon = 3000\n",
        "rate = 0.025\n",
        "pv = coupon / rate\n",
        "pv"
      ],
      "execution_count": null,
      "outputs": [
        {
          "output_type": "execute_result",
          "data": {
            "text/plain": [
              "120000.0"
            ]
          },
          "metadata": {
            "tags": []
          },
          "execution_count": 10
        }
      ]
    },
    {
      "cell_type": "code",
      "metadata": {
        "colab": {
          "base_uri": "https://localhost:8080/"
        },
        "id": "dW7_Qd0FItQv",
        "outputId": "e86bab17-8208-4ad7-a946-d253b70d939e"
      },
      "source": [
        "# 성장형 영구채 = 쿠폰 / (이자율 - 성장률률\n",
        "\n",
        "g = 0.01 #성장률 또는 인플레\n",
        "pv = coupon / (rate - g)\n",
        "pv"
      ],
      "execution_count": null,
      "outputs": [
        {
          "output_type": "execute_result",
          "data": {
            "text/plain": [
              "199999.99999999997"
            ]
          },
          "metadata": {
            "tags": []
          },
          "execution_count": 12
        }
      ]
    },
    {
      "cell_type": "markdown",
      "metadata": {
        "id": "WoxnDGniJAml"
      },
      "source": [
        "## 3)연금(annuity) 현재가치 \n"
      ]
    },
    {
      "cell_type": "code",
      "metadata": {
        "id": "4amahlSoJ5nK",
        "colab": {
          "base_uri": "https://localhost:8080/",
          "height": 197
        },
        "outputId": "3f02c92e-aa0a-4964-b3a7-9c54709368ee"
      },
      "source": [
        "pv = coupon / rate * (1 - 1/(1+rate)**n)\n"
      ],
      "execution_count": null,
      "outputs": [
        {
          "output_type": "error",
          "ename": "NameError",
          "evalue": "ignored",
          "traceback": [
            "\u001b[0;31m---------------------------------------------------------------------------\u001b[0m",
            "\u001b[0;31mNameError\u001b[0m                                 Traceback (most recent call last)",
            "\u001b[0;32m<ipython-input-1-0600e8852473>\u001b[0m in \u001b[0;36m<module>\u001b[0;34m()\u001b[0m\n\u001b[0;32m----> 1\u001b[0;31m \u001b[0mpv\u001b[0m \u001b[0;34m=\u001b[0m \u001b[0mcoupon\u001b[0m \u001b[0;34m/\u001b[0m \u001b[0mrate\u001b[0m \u001b[0;34m*\u001b[0m \u001b[0;34m(\u001b[0m\u001b[0;36m1\u001b[0m \u001b[0;34m-\u001b[0m \u001b[0;36m1\u001b[0m\u001b[0;34m/\u001b[0m\u001b[0;34m(\u001b[0m\u001b[0;36m1\u001b[0m\u001b[0;34m+\u001b[0m\u001b[0mrate\u001b[0m\u001b[0;34m)\u001b[0m\u001b[0;34m**\u001b[0m\u001b[0mn\u001b[0m\u001b[0;34m)\u001b[0m\u001b[0;34m\u001b[0m\u001b[0;34m\u001b[0m\u001b[0m\n\u001b[0m",
            "\u001b[0;31mNameError\u001b[0m: name 'coupon' is not defined"
          ]
        }
      ]
    },
    {
      "cell_type": "markdown",
      "metadata": {
        "id": "mCBwrdao41OU"
      },
      "source": [
        "##4)IRR"
      ]
    },
    {
      "cell_type": "code",
      "metadata": {
        "colab": {
          "base_uri": "https://localhost:8080/"
        },
        "id": "IRXdsBnO44K5",
        "outputId": "d789cfe5-4f97-4f3a-e801-8b74e979673b"
      },
      "source": [
        "import numpy as np\n",
        "cashflows = [55,-50,-50,-50,100]\n",
        "n=1000\n",
        "n_cashflow = len(cashflows)\n",
        "epsilon = np.abs(np.mean(cashflows))*0.01\n",
        "irr=[-99.00]\n",
        "lag_sign = np.sign(np.npv(0,cashflows))\n",
        "i=1\n",
        "j=1\n"
      ],
      "execution_count": null,
      "outputs": [
        {
          "output_type": "stream",
          "text": [
            "/usr/local/lib/python3.6/dist-packages/ipykernel_launcher.py:7: DeprecationWarning: numpy.npv is deprecated and will be removed from NumPy 1.20. Use numpy_financial.npv instead (https://pypi.org/project/numpy-financial/).\n",
            "  import sys\n"
          ],
          "name": "stderr"
        }
      ]
    },
    {
      "cell_type": "markdown",
      "metadata": {
        "id": "3RlCery75aZF"
      },
      "source": [
        "#5. 채권 및 주식 가치 평가 "
      ]
    },
    {
      "cell_type": "code",
      "metadata": {
        "id": "YVOU_Y0H8CeF"
      },
      "source": [
        "import pandas as pd\n",
        "import numpy as np\n",
        "import scipy as sp\n",
        "x= pd.Series([1,2,np.nan,np.nan,6])"
      ],
      "execution_count": null,
      "outputs": []
    },
    {
      "cell_type": "code",
      "metadata": {
        "colab": {
          "base_uri": "https://localhost:8080/"
        },
        "id": "HmMuiKzDGqLl",
        "outputId": "a3f3dcfb-9b92-4b24-e2da-24672b10edf2"
      },
      "source": [
        "x"
      ],
      "execution_count": null,
      "outputs": [
        {
          "output_type": "execute_result",
          "data": {
            "text/plain": [
              "0    1.0\n",
              "1    2.0\n",
              "2    NaN\n",
              "3    NaN\n",
              "4    6.0\n",
              "dtype: float64"
            ]
          },
          "metadata": {
            "tags": []
          },
          "execution_count": 14
        }
      ]
    },
    {
      "cell_type": "code",
      "metadata": {
        "colab": {
          "base_uri": "https://localhost:8080/"
        },
        "id": "XX1sO-L4GqwH",
        "outputId": "07789fc2-f5fb-4d6a-b425-8f1a6af899c2"
      },
      "source": [
        "x.interpolate()"
      ],
      "execution_count": null,
      "outputs": [
        {
          "output_type": "execute_result",
          "data": {
            "text/plain": [
              "0    1.000000\n",
              "1    2.000000\n",
              "2    3.333333\n",
              "3    4.666667\n",
              "4    6.000000\n",
              "dtype: float64"
            ]
          },
          "metadata": {
            "tags": []
          },
          "execution_count": 15
        }
      ]
    },
    {
      "cell_type": "code",
      "metadata": {
        "id": "CNOxBOQhIiQG"
      },
      "source": [
        "import math\n",
        "\n",
        "def duration(t:list,cf:list,y:float) -> float:\n",
        "  n = len(t)\n",
        "  pv = 0\n",
        "\n",
        "  for i in range(n):\n",
        "    pv = pv + cf[i]*math.exp(-y*t[i])\n",
        "  \n",
        "  dur = 0\n",
        "\n",
        "  for i in range(n):\n",
        "    dur = dur + t[i]* (cf[i]*math.exp(-y*t[i])/pv)\n",
        "  \n",
        "  return dur\n"
      ],
      "execution_count": null,
      "outputs": []
    },
    {
      "cell_type": "code",
      "metadata": {
        "colab": {
          "base_uri": "https://localhost:8080/"
        },
        "id": "GvEfsyNeLcGG",
        "outputId": "dbba6c7b-725e-4eee-8e4e-557c42346058"
      },
      "source": [
        "duration([1,2],[100,1100],0.01)"
      ],
      "execution_count": null,
      "outputs": [
        {
          "output_type": "execute_result",
          "data": {
            "text/plain": [
              "1.915899588009016"
            ]
          },
          "metadata": {
            "tags": []
          },
          "execution_count": 17
        }
      ]
    },
    {
      "cell_type": "code",
      "metadata": {
        "colab": {
          "base_uri": "https://localhost:8080/"
        },
        "id": "ES_ivZvGMTOR",
        "outputId": "c93884db-ccfc-4f88-9f44-45ed46d52c39"
      },
      "source": [
        "sp.pv(0.024, 3, 8, 100)"
      ],
      "execution_count": null,
      "outputs": [
        {
          "output_type": "stream",
          "text": [
            "/usr/local/lib/python3.6/dist-packages/ipykernel_launcher.py:1: DeprecationWarning: scipy.pv is deprecated and will be removed in SciPy 2.0.0, use numpy.pv instead\n",
            "  \"\"\"Entry point for launching an IPython kernel.\n"
          ],
          "name": "stderr"
        },
        {
          "output_type": "execute_result",
          "data": {
            "text/plain": [
              "-116.0247325897217"
            ]
          },
          "metadata": {
            "tags": []
          },
          "execution_count": 18
        }
      ]
    },
    {
      "cell_type": "code",
      "metadata": {
        "colab": {
          "base_uri": "https://localhost:8080/"
        },
        "id": "_B8jRapRQM1r",
        "outputId": "b5dee4d0-ed1c-4656-b1bc-9c727f880ca3"
      },
      "source": [
        "npf.rate(5, 30, -818, 1000)"
      ],
      "execution_count": null,
      "outputs": [
        {
          "output_type": "execute_result",
          "data": {
            "text/plain": [
              "0.07498180431487073"
            ]
          },
          "metadata": {
            "tags": []
          },
          "execution_count": 22
        }
      ]
    },
    {
      "cell_type": "code",
      "metadata": {
        "id": "vdjjV1XMRr-z"
      },
      "source": [
        ""
      ],
      "execution_count": null,
      "outputs": []
    }
  ]
}